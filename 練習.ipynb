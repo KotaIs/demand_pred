{
 "cells": [
  {
   "cell_type": "code",
   "execution_count": 3,
   "id": "83d7650d-2bf6-4095-bc17-c4e335f09d0a",
   "metadata": {},
   "outputs": [
    {
     "name": "stdout",
     "output_type": "stream",
     "text": [
      "Intel MKL WARNING: Support of Intel(R) Streaming SIMD Extensions 4.2 (Intel(R) SSE4.2) enabled only processors has been deprecated. Intel oneAPI Math Kernel Library 2025.0 will require Intel(R) Advanced Vector Extensions (Intel(R) AVX) instructions.\n",
      "Intel MKL WARNING: Support of Intel(R) Streaming SIMD Extensions 4.2 (Intel(R) SSE4.2) enabled only processors has been deprecated. Intel oneAPI Math Kernel Library 2025.0 will require Intel(R) Advanced Vector Extensions (Intel(R) AVX) instructions.\n"
     ]
    }
   ],
   "source": [
    "import pandas as pd\n",
    "from datetime import datetime as dt\n",
    "\n",
    "from sklearn.model_selection import train_test_split\n"
   ]
  },
  {
   "cell_type": "code",
   "execution_count": 4,
   "id": "06b093ed-9253-4918-b185-f6ccc8388c0e",
   "metadata": {},
   "outputs": [
    {
     "data": {
      "text/html": [
       "<div>\n",
       "<style scoped>\n",
       "    .dataframe tbody tr th:only-of-type {\n",
       "        vertical-align: middle;\n",
       "    }\n",
       "\n",
       "    .dataframe tbody tr th {\n",
       "        vertical-align: top;\n",
       "    }\n",
       "\n",
       "    .dataframe thead th {\n",
       "        text-align: right;\n",
       "    }\n",
       "</style>\n",
       "<table border=\"1\" class=\"dataframe\">\n",
       "  <thead>\n",
       "    <tr style=\"text-align: right;\">\n",
       "      <th></th>\n",
       "      <th>DATE</th>\n",
       "      <th>TIME</th>\n",
       "      <th>実績(万kW)</th>\n",
       "    </tr>\n",
       "  </thead>\n",
       "  <tbody>\n",
       "    <tr>\n",
       "      <th>0</th>\n",
       "      <td>2017/1/1</td>\n",
       "      <td>0:00</td>\n",
       "      <td>2783</td>\n",
       "    </tr>\n",
       "    <tr>\n",
       "      <th>1</th>\n",
       "      <td>2017/1/1</td>\n",
       "      <td>1:00</td>\n",
       "      <td>2634</td>\n",
       "    </tr>\n",
       "    <tr>\n",
       "      <th>2</th>\n",
       "      <td>2017/1/1</td>\n",
       "      <td>2:00</td>\n",
       "      <td>2520</td>\n",
       "    </tr>\n",
       "    <tr>\n",
       "      <th>3</th>\n",
       "      <td>2017/1/1</td>\n",
       "      <td>3:00</td>\n",
       "      <td>2438</td>\n",
       "    </tr>\n",
       "    <tr>\n",
       "      <th>4</th>\n",
       "      <td>2017/1/1</td>\n",
       "      <td>4:00</td>\n",
       "      <td>2389</td>\n",
       "    </tr>\n",
       "  </tbody>\n",
       "</table>\n",
       "</div>"
      ],
      "text/plain": [
       "       DATE  TIME  実績(万kW)\n",
       "0  2017/1/1  0:00     2783\n",
       "1  2017/1/1  1:00     2634\n",
       "2  2017/1/1  2:00     2520\n",
       "3  2017/1/1  3:00     2438\n",
       "4  2017/1/1  4:00     2389"
      ]
     },
     "execution_count": 4,
     "metadata": {},
     "output_type": "execute_result"
    }
   ],
   "source": [
    "df = pd.read_csv('https://www.tepco.co.jp/forecast/html/images/juyo-2017.csv', encoding='shift-jis', skiprows=1)\n",
    "df.head()"
   ]
  },
  {
   "cell_type": "code",
   "execution_count": 5,
   "id": "897c59c5-b657-4c92-9938-98f98928769c",
   "metadata": {},
   "outputs": [],
   "source": [
    "years = [2017, 2018, 2019]\n",
    "\n",
    "df = pd.DataFrame()\n",
    "for year in years:\n",
    "    _df = pd.read_csv(f'https://www.tepco.co.jp/forecast/html/images/juyo-{year}.csv', encoding='shift-jis', skiprows=1)\n",
    "    df = pd.concat([df, _df], axis=0)"
   ]
  },
  {
   "cell_type": "code",
   "execution_count": 6,
   "id": "9e734e8c-f7bd-4f13-82a4-c198c4d55e44",
   "metadata": {},
   "outputs": [],
   "source": [
    "df = df.reset_index(drop=True)"
   ]
  },
  {
   "cell_type": "code",
   "execution_count": 7,
   "id": "dce02843-2ddc-42eb-bebd-242b7fca616d",
   "metadata": {},
   "outputs": [
    {
     "data": {
      "text/plain": [
       "'2017/1/1'"
      ]
     },
     "execution_count": 7,
     "metadata": {},
     "output_type": "execute_result"
    }
   ],
   "source": [
    "df['DATE'][0]"
   ]
  },
  {
   "cell_type": "code",
   "execution_count": 8,
   "id": "9fd51a9a-5fd5-46fd-9de0-4688068d00eb",
   "metadata": {},
   "outputs": [
    {
     "data": {
      "text/plain": [
       "'2017/1/1 0:00'"
      ]
     },
     "execution_count": 8,
     "metadata": {},
     "output_type": "execute_result"
    }
   ],
   "source": [
    "date = df['DATE'][0]\n",
    "time = df['TIME'][0]\n",
    "str_datetime = f'{date} {time}'\n",
    "str_datetime"
   ]
  },
  {
   "cell_type": "code",
   "execution_count": 9,
   "id": "82d792a6-b29f-40c9-893f-84cf1c568ba8",
   "metadata": {},
   "outputs": [
    {
     "data": {
      "text/plain": [
       "datetime.datetime(2017, 1, 1, 0, 0)"
      ]
     },
     "execution_count": 9,
     "metadata": {},
     "output_type": "execute_result"
    }
   ],
   "source": [
    "datetime = dt.strptime(str_datetime, '%Y/%m/%d %H:%M')\n",
    "datetime"
   ]
  },
  {
   "cell_type": "code",
   "execution_count": 10,
   "id": "776e1d30-34e0-4d5f-bc84-789ed56f8bba",
   "metadata": {},
   "outputs": [],
   "source": [
    "datetimes = []\n",
    "\n",
    "for index, datum in df.iterrows():\n",
    "    date = datum['DATE']\n",
    "    time = datum['TIME']\n",
    "    str_datetime = f'{date} {time}'\n",
    "    datetime = dt.strptime(str_datetime, '%Y/%m/%d %H:%M')\n",
    "    datetimes.append(datetime)"
   ]
  },
  {
   "cell_type": "code",
   "execution_count": 11,
   "id": "38d20129-94bc-438f-85b5-6abb8615cb0d",
   "metadata": {},
   "outputs": [],
   "source": [
    "df['ds'] = datetimes"
   ]
  },
  {
   "cell_type": "code",
   "execution_count": 12,
   "id": "43271995-6159-492c-ae36-a2f4ba1fe20f",
   "metadata": {},
   "outputs": [
    {
     "data": {
      "text/html": [
       "<div>\n",
       "<style scoped>\n",
       "    .dataframe tbody tr th:only-of-type {\n",
       "        vertical-align: middle;\n",
       "    }\n",
       "\n",
       "    .dataframe tbody tr th {\n",
       "        vertical-align: top;\n",
       "    }\n",
       "\n",
       "    .dataframe thead th {\n",
       "        text-align: right;\n",
       "    }\n",
       "</style>\n",
       "<table border=\"1\" class=\"dataframe\">\n",
       "  <thead>\n",
       "    <tr style=\"text-align: right;\">\n",
       "      <th></th>\n",
       "      <th>DATE</th>\n",
       "      <th>TIME</th>\n",
       "      <th>実績(万kW)</th>\n",
       "      <th>ds</th>\n",
       "    </tr>\n",
       "  </thead>\n",
       "  <tbody>\n",
       "    <tr>\n",
       "      <th>0</th>\n",
       "      <td>2017/1/1</td>\n",
       "      <td>0:00</td>\n",
       "      <td>2783</td>\n",
       "      <td>2017-01-01 00:00:00</td>\n",
       "    </tr>\n",
       "    <tr>\n",
       "      <th>1</th>\n",
       "      <td>2017/1/1</td>\n",
       "      <td>1:00</td>\n",
       "      <td>2634</td>\n",
       "      <td>2017-01-01 01:00:00</td>\n",
       "    </tr>\n",
       "    <tr>\n",
       "      <th>2</th>\n",
       "      <td>2017/1/1</td>\n",
       "      <td>2:00</td>\n",
       "      <td>2520</td>\n",
       "      <td>2017-01-01 02:00:00</td>\n",
       "    </tr>\n",
       "    <tr>\n",
       "      <th>3</th>\n",
       "      <td>2017/1/1</td>\n",
       "      <td>3:00</td>\n",
       "      <td>2438</td>\n",
       "      <td>2017-01-01 03:00:00</td>\n",
       "    </tr>\n",
       "    <tr>\n",
       "      <th>4</th>\n",
       "      <td>2017/1/1</td>\n",
       "      <td>4:00</td>\n",
       "      <td>2389</td>\n",
       "      <td>2017-01-01 04:00:00</td>\n",
       "    </tr>\n",
       "    <tr>\n",
       "      <th>...</th>\n",
       "      <td>...</td>\n",
       "      <td>...</td>\n",
       "      <td>...</td>\n",
       "      <td>...</td>\n",
       "    </tr>\n",
       "    <tr>\n",
       "      <th>26275</th>\n",
       "      <td>2019/12/31</td>\n",
       "      <td>19:00</td>\n",
       "      <td>3302</td>\n",
       "      <td>2019-12-31 19:00:00</td>\n",
       "    </tr>\n",
       "    <tr>\n",
       "      <th>26276</th>\n",
       "      <td>2019/12/31</td>\n",
       "      <td>20:00</td>\n",
       "      <td>3263</td>\n",
       "      <td>2019-12-31 20:00:00</td>\n",
       "    </tr>\n",
       "    <tr>\n",
       "      <th>26277</th>\n",
       "      <td>2019/12/31</td>\n",
       "      <td>21:00</td>\n",
       "      <td>3182</td>\n",
       "      <td>2019-12-31 21:00:00</td>\n",
       "    </tr>\n",
       "    <tr>\n",
       "      <th>26278</th>\n",
       "      <td>2019/12/31</td>\n",
       "      <td>22:00</td>\n",
       "      <td>3077</td>\n",
       "      <td>2019-12-31 22:00:00</td>\n",
       "    </tr>\n",
       "    <tr>\n",
       "      <th>26279</th>\n",
       "      <td>2019/12/31</td>\n",
       "      <td>23:00</td>\n",
       "      <td>3029</td>\n",
       "      <td>2019-12-31 23:00:00</td>\n",
       "    </tr>\n",
       "  </tbody>\n",
       "</table>\n",
       "<p>26280 rows × 4 columns</p>\n",
       "</div>"
      ],
      "text/plain": [
       "             DATE   TIME  実績(万kW)                  ds\n",
       "0        2017/1/1   0:00     2783 2017-01-01 00:00:00\n",
       "1        2017/1/1   1:00     2634 2017-01-01 01:00:00\n",
       "2        2017/1/1   2:00     2520 2017-01-01 02:00:00\n",
       "3        2017/1/1   3:00     2438 2017-01-01 03:00:00\n",
       "4        2017/1/1   4:00     2389 2017-01-01 04:00:00\n",
       "...           ...    ...      ...                 ...\n",
       "26275  2019/12/31  19:00     3302 2019-12-31 19:00:00\n",
       "26276  2019/12/31  20:00     3263 2019-12-31 20:00:00\n",
       "26277  2019/12/31  21:00     3182 2019-12-31 21:00:00\n",
       "26278  2019/12/31  22:00     3077 2019-12-31 22:00:00\n",
       "26279  2019/12/31  23:00     3029 2019-12-31 23:00:00\n",
       "\n",
       "[26280 rows x 4 columns]"
      ]
     },
     "execution_count": 12,
     "metadata": {},
     "output_type": "execute_result"
    }
   ],
   "source": [
    "df"
   ]
  },
  {
   "cell_type": "code",
   "execution_count": 13,
   "id": "f03294dc-6b1a-4add-979f-2c1e4d7eb28a",
   "metadata": {},
   "outputs": [
    {
     "data": {
      "text/html": [
       "<div>\n",
       "<style scoped>\n",
       "    .dataframe tbody tr th:only-of-type {\n",
       "        vertical-align: middle;\n",
       "    }\n",
       "\n",
       "    .dataframe tbody tr th {\n",
       "        vertical-align: top;\n",
       "    }\n",
       "\n",
       "    .dataframe thead th {\n",
       "        text-align: right;\n",
       "    }\n",
       "</style>\n",
       "<table border=\"1\" class=\"dataframe\">\n",
       "  <thead>\n",
       "    <tr style=\"text-align: right;\">\n",
       "      <th></th>\n",
       "      <th>DATE</th>\n",
       "      <th>TIME</th>\n",
       "      <th>実績(万kW)</th>\n",
       "      <th>ds</th>\n",
       "    </tr>\n",
       "  </thead>\n",
       "  <tbody>\n",
       "    <tr>\n",
       "      <th>0</th>\n",
       "      <td>2017/1/1</td>\n",
       "      <td>0:00</td>\n",
       "      <td>2783</td>\n",
       "      <td>2017-01-01 00:00:00</td>\n",
       "    </tr>\n",
       "    <tr>\n",
       "      <th>1</th>\n",
       "      <td>2017/1/1</td>\n",
       "      <td>1:00</td>\n",
       "      <td>2634</td>\n",
       "      <td>2017-01-01 01:00:00</td>\n",
       "    </tr>\n",
       "    <tr>\n",
       "      <th>2</th>\n",
       "      <td>2017/1/1</td>\n",
       "      <td>2:00</td>\n",
       "      <td>2520</td>\n",
       "      <td>2017-01-01 02:00:00</td>\n",
       "    </tr>\n",
       "    <tr>\n",
       "      <th>3</th>\n",
       "      <td>2017/1/1</td>\n",
       "      <td>3:00</td>\n",
       "      <td>2438</td>\n",
       "      <td>2017-01-01 03:00:00</td>\n",
       "    </tr>\n",
       "    <tr>\n",
       "      <th>4</th>\n",
       "      <td>2017/1/1</td>\n",
       "      <td>4:00</td>\n",
       "      <td>2389</td>\n",
       "      <td>2017-01-01 04:00:00</td>\n",
       "    </tr>\n",
       "    <tr>\n",
       "      <th>...</th>\n",
       "      <td>...</td>\n",
       "      <td>...</td>\n",
       "      <td>...</td>\n",
       "      <td>...</td>\n",
       "    </tr>\n",
       "    <tr>\n",
       "      <th>26275</th>\n",
       "      <td>2019/12/31</td>\n",
       "      <td>19:00</td>\n",
       "      <td>3302</td>\n",
       "      <td>2019-12-31 19:00:00</td>\n",
       "    </tr>\n",
       "    <tr>\n",
       "      <th>26276</th>\n",
       "      <td>2019/12/31</td>\n",
       "      <td>20:00</td>\n",
       "      <td>3263</td>\n",
       "      <td>2019-12-31 20:00:00</td>\n",
       "    </tr>\n",
       "    <tr>\n",
       "      <th>26277</th>\n",
       "      <td>2019/12/31</td>\n",
       "      <td>21:00</td>\n",
       "      <td>3182</td>\n",
       "      <td>2019-12-31 21:00:00</td>\n",
       "    </tr>\n",
       "    <tr>\n",
       "      <th>26278</th>\n",
       "      <td>2019/12/31</td>\n",
       "      <td>22:00</td>\n",
       "      <td>3077</td>\n",
       "      <td>2019-12-31 22:00:00</td>\n",
       "    </tr>\n",
       "    <tr>\n",
       "      <th>26279</th>\n",
       "      <td>2019/12/31</td>\n",
       "      <td>23:00</td>\n",
       "      <td>3029</td>\n",
       "      <td>2019-12-31 23:00:00</td>\n",
       "    </tr>\n",
       "  </tbody>\n",
       "</table>\n",
       "<p>26280 rows × 4 columns</p>\n",
       "</div>"
      ],
      "text/plain": [
       "             DATE   TIME  実績(万kW)                  ds\n",
       "0        2017/1/1   0:00     2783 2017-01-01 00:00:00\n",
       "1        2017/1/1   1:00     2634 2017-01-01 01:00:00\n",
       "2        2017/1/1   2:00     2520 2017-01-01 02:00:00\n",
       "3        2017/1/1   3:00     2438 2017-01-01 03:00:00\n",
       "4        2017/1/1   4:00     2389 2017-01-01 04:00:00\n",
       "...           ...    ...      ...                 ...\n",
       "26275  2019/12/31  19:00     3302 2019-12-31 19:00:00\n",
       "26276  2019/12/31  20:00     3263 2019-12-31 20:00:00\n",
       "26277  2019/12/31  21:00     3182 2019-12-31 21:00:00\n",
       "26278  2019/12/31  22:00     3077 2019-12-31 22:00:00\n",
       "26279  2019/12/31  23:00     3029 2019-12-31 23:00:00\n",
       "\n",
       "[26280 rows x 4 columns]"
      ]
     },
     "execution_count": 13,
     "metadata": {},
     "output_type": "execute_result"
    }
   ],
   "source": [
    "df.rename(columns={'実績(万kW)':'y'})\n",
    "df"
   ]
  },
  {
   "cell_type": "code",
   "execution_count": 15,
   "id": "142ee889-fe93-4fe7-a5cc-a0e7bcadb102",
   "metadata": {},
   "outputs": [
    {
     "ename": "TypeError",
     "evalue": "'module' object is not callable",
     "output_type": "error",
     "traceback": [
      "\u001b[0;31m---------------------------------------------------------------------------\u001b[0m",
      "\u001b[0;31mTypeError\u001b[0m                                 Traceback (most recent call last)",
      "Cell \u001b[0;32mIn[15], line 1\u001b[0m\n\u001b[0;32m----> 1\u001b[0m model \u001b[38;5;241m=\u001b[39m \u001b[43mst\u001b[49m\u001b[43m(\u001b[49m\u001b[43m)\u001b[49m\n\u001b[1;32m      2\u001b[0m model\u001b[38;5;241m.\u001b[39mfit(df)\n",
      "\u001b[0;31mTypeError\u001b[0m: 'module' object is not callable"
     ]
    }
   ],
   "source": [
    "model = st()\n",
    "model.fit(df)"
   ]
  },
  {
   "cell_type": "code",
   "execution_count": null,
   "id": "83757e08-d244-45aa-81dc-abdeac33b182",
   "metadata": {},
   "outputs": [],
   "source": []
  }
 ],
 "metadata": {
  "kernelspec": {
   "display_name": "Python 3 (ipykernel)",
   "language": "python",
   "name": "python3"
  },
  "language_info": {
   "codemirror_mode": {
    "name": "ipython",
    "version": 3
   },
   "file_extension": ".py",
   "mimetype": "text/x-python",
   "name": "python",
   "nbconvert_exporter": "python",
   "pygments_lexer": "ipython3",
   "version": "3.9.12"
  }
 },
 "nbformat": 4,
 "nbformat_minor": 5
}
